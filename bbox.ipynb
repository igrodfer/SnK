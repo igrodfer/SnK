{
 "cells": [
  {
   "cell_type": "code",
   "execution_count": 36,
   "metadata": {},
   "outputs": [],
   "source": [
    "import cv2\n",
    "import numpy as np\n",
    "import os\n",
    "import skops.io as sio\n",
    "import pandas as pd\n",
    "from sklearn.pipeline import Pipeline\n",
    "from sklearn.cluster import KMeans\n",
    "from sklearn.decomposition import PCA\n",
    "from face_segmenter import segment_image,rgb2gray, next_pyramid_step\n",
    "import matplotlib.pyplot as plt"
   ]
  },
  {
   "attachments": {},
   "cell_type": "markdown",
   "metadata": {},
   "source": [
    "# Entrenamiento"
   ]
  },
  {
   "cell_type": "code",
   "execution_count": 37,
   "metadata": {},
   "outputs": [],
   "source": [
    "csv_path = \"/media/nacho/datasets/CelebA/list_bbox_celeba.csv\"\n",
    "images_dir = \"/media/nacho/datasets/CelebA/img_align_celeba/img_align_celeba\"\n",
    "\n",
    "images_properties = pd.read_csv(csv_path,sep=\",\",nrows=100000)"
   ]
  },
  {
   "cell_type": "code",
   "execution_count": 38,
   "metadata": {},
   "outputs": [],
   "source": [
    "x1 = 45\n",
    "y1 = 85\n",
    "w1 = 90\n",
    "h1 = 90\n",
    "n_clusters = 128"
   ]
  },
  {
   "cell_type": "code",
   "execution_count": 39,
   "metadata": {},
   "outputs": [],
   "source": [
    "def sharpen_image(image):\n",
    "    sharpening = np.array([[-1,-1,-1],[-1,9.5,-1],[-1,-1,-1]])\n",
    "    image = cv2.filter2D(image,-1,sharpening)\n",
    "    return image"
   ]
  },
  {
   "cell_type": "code",
   "execution_count": 40,
   "metadata": {},
   "outputs": [],
   "source": [
    "def change_brightness(image):\n",
    "    bright = np.ones(image.shape,dtype=int) * (np.random.random() * 100 - 50)\n",
    "    return np.clip(image + bright.astype(int),0,255) "
   ]
  },
  {
   "cell_type": "code",
   "execution_count": 41,
   "metadata": {},
   "outputs": [],
   "source": [
    "faces_list = []\n",
    "faces_list_augmented = []\n",
    "for _,image in images_properties.iterrows():\n",
    "    image_path,bbox1,bbox2,bbox3,bbox4 = image.tolist()\n",
    "    image_path = os.path.join(images_dir,image_path)\n",
    "    if not os.path.exists(image_path): continue\n",
    "    \n",
    "    img = cv2.imread(image_path)\n",
    "    img = rgb2gray(img)\n",
    "    face = img[y1:y1+h1,x1:x1+w1]\n",
    "    \n",
    "    face = cv2.resize(face,(32,32))\n",
    "    face_f = cv2.flip(face,1)\n",
    "    \n",
    "    faces_list.append(face)    \n",
    "    faces_list_augmented.append(face_f)\n",
    "\n",
    "    faces_list_augmented.append(sharpen_image(face))\n",
    "    faces_list_augmented.append(sharpen_image(face_f))\n",
    "\n",
    "    faces_list_augmented.append(change_brightness(face))\n",
    "    faces_list_augmented.append(change_brightness(face_f))\n"
   ]
  },
  {
   "cell_type": "code",
   "execution_count": 42,
   "metadata": {},
   "outputs": [
    {
     "data": {
      "text/plain": [
       "<matplotlib.image.AxesImage at 0x7f8b9c2af250>"
      ]
     },
     "execution_count": 42,
     "metadata": {},
     "output_type": "execute_result"
    },
    {
     "data": {
      "image/png": "[encoded data removed]",
      "text/plain": [
       "<Figure size 640x480 with 1 Axes>"
      ]
     },
     "metadata": {},
     "output_type": "display_data"
    }
   ],
   "source": [
    "plt.imshow(faces_list_augmented[79],cmap=\"gray\")"
   ]
  },
  {
   "cell_type": "code",
   "execution_count": 43,
   "metadata": {},
   "outputs": [],
   "source": [
    "tile_list = []\n",
    "for face in faces_list:\n",
    "    tiles,_ = segment_image(face,8)\n",
    "    tile_list.append(tiles)\n",
    "\n",
    "tiles_np = np.concatenate(tile_list)"
   ]
  },
  {
   "cell_type": "code",
   "execution_count": 44,
   "metadata": {},
   "outputs": [],
   "source": [
    "tile_list = []\n",
    "for face in faces_list_augmented:\n",
    "    tiles,_ = segment_image(face,8)\n",
    "    tile_list.append(tiles)\n",
    "\n",
    "tiles_augmented_np =  np.concatenate(tile_list)\n",
    "del tile_list"
   ]
  },
  {
   "cell_type": "code",
   "execution_count": 18,
   "metadata": {},
   "outputs": [],
   "source": [
    "# natural_images_path = \"/media/nacho/datasets/natural_images\"\n",
    "\n",
    "# natural_images_list = []\n",
    "\n",
    "# for data_folder in os.listdir(natural_images_path):\n",
    "#     if data_folder == \"person\": continue\n",
    "#     for image in os.listdir(os.path.join(natural_images_path,data_folder)):\n",
    "#         img_npy = cv2.imread(os.path.join(natural_images_path,data_folder,image))\n",
    "#         img_npy = rgb2gray(img_npy)\n",
    "#         \"\"\"for i in range(10):\n",
    "#             img_npy = next_pyramid_step(img_npy)\"\"\"\n",
    "#         subregiones,_ = segment_image(img_npy,8)\n",
    "#         natural_images_list.append(subregiones)\n",
    "\n",
    "# natural_images = np.concatenate(natural_images_list)\n",
    "# del natural_images_list"
   ]
  },
  {
   "cell_type": "code",
   "execution_count": 45,
   "metadata": {},
   "outputs": [],
   "source": [
    "import random\n",
    "caltech_images_path = \"/media/nacho/datasets/256_ObjectCategories\"\n",
    "\n",
    "categories = os.listdir(caltech_images_path)\n",
    "banned = [\"001.ak47\",\"038.chimp\",\"032.cartman\",\"051.cowboy-hat\",\"119.jesus-christ\",\"112.human-skeleton\"]\n",
    "\n",
    "categories_tree = dict()\n",
    "for category in categories:\n",
    "    if category in banned: continue\n",
    "    categories_tree[category] = os.listdir(caltech_images_path + \"/\" + category)\n",
    "\n",
    "caltech_images_list = []\n",
    "while len(caltech_images_list) < 10_000:\n",
    "    category = random.choice(categories)\n",
    "    if category in banned: continue\n",
    "    cal_img_list = categories_tree[category]\n",
    "\n",
    "    image_name = random.choice(cal_img_list)\n",
    "    img_npy = cv2.imread(os.path.join(caltech_images_path,category,image_name))\n",
    "\n",
    "    img_npy = rgb2gray(img_npy)\n",
    "    for i in range(10):\n",
    "        img_npy = next_pyramid_step(img_npy,0.9)\n",
    "        subregiones,_ = segment_image(img_npy,8)\n",
    "        caltech_images_list.append(subregiones)\n",
    "\n"
   ]
  },
  {
   "cell_type": "code",
   "execution_count": 46,
   "metadata": {},
   "outputs": [],
   "source": [
    "natural_images =  np.concatenate(caltech_images_list)"
   ]
  },
  {
   "cell_type": "code",
   "execution_count": 34,
   "metadata": {},
   "outputs": [
    {
     "data": {
      "text/plain": [
       "(8982858, 8, 8)"
      ]
     },
     "execution_count": 34,
     "metadata": {},
     "output_type": "execute_result"
    }
   ],
   "source": [
    "natural_images.shape"
   ]
  },
  {
   "cell_type": "code",
   "execution_count": 47,
   "metadata": {},
   "outputs": [],
   "source": [
    "train_tiles_np = np.concatenate([tiles_np,natural_images])"
   ]
  },
  {
   "cell_type": "code",
   "execution_count": 48,
   "metadata": {},
   "outputs": [
    {
     "data": {
      "text/html": [
       "<style>#sk-container-id-2 {color: black;background-color: white;}#sk-container-id-2 pre{padding: 0;}#sk-container-id-2 div.sk-toggleable {background-color: white;}#sk-container-id-2 label.sk-toggleable__label {cursor: pointer;display: block;width: 100%;margin-bottom: 0;padding: 0.3em;box-sizing: border-box;text-align: center;}#sk-container-id-2 label.sk-toggleable__label-arrow:before {content: \"▸\";float: left;margin-right: 0.25em;color: #696969;}#sk-container-id-2 label.sk-toggleable__label-arrow:hover:before {color: black;}#sk-container-id-2 div.sk-estimator:hover label.sk-toggleable__label-arrow:before {color: black;}#sk-container-id-2 div.sk-toggleable__content {max-height: 0;max-width: 0;overflow: hidden;text-align: left;background-color: #f0f8ff;}#sk-container-id-2 div.sk-toggleable__content pre {margin: 0.2em;color: black;border-radius: 0.25em;background-color: #f0f8ff;}#sk-container-id-2 input.sk-toggleable__control:checked~div.sk-toggleable__content {max-height: 200px;max-width: 100%;overflow: auto;}#sk-container-id-2 input.sk-toggleable__control:checked~label.sk-toggleable__label-arrow:before {content: \"▾\";}#sk-container-id-2 div.sk-estimator input.sk-toggleable__control:checked~label.sk-toggleable__label {background-color: #d4ebff;}#sk-container-id-2 div.sk-label input.sk-toggleable__control:checked~label.sk-toggleable__label {background-color: #d4ebff;}#sk-container-id-2 input.sk-hidden--visually {border: 0;clip: rect(1px 1px 1px 1px);clip: rect(1px, 1px, 1px, 1px);height: 1px;margin: -1px;overflow: hidden;padding: 0;position: absolute;width: 1px;}#sk-container-id-2 div.sk-estimator {font-family: monospace;background-color: #f0f8ff;border: 1px dotted black;border-radius: 0.25em;box-sizing: border-box;margin-bottom: 0.5em;}#sk-container-id-2 div.sk-estimator:hover {background-color: #d4ebff;}#sk-container-id-2 div.sk-parallel-item::after {content: \"\";width: 100%;border-bottom: 1px solid gray;flex-grow: 1;}#sk-container-id-2 div.sk-label:hover label.sk-toggleable__label {background-color: #d4ebff;}#sk-container-id-2 div.sk-serial::before {content: \"\";position: absolute;border-left: 1px solid gray;box-sizing: border-box;top: 0;bottom: 0;left: 50%;z-index: 0;}#sk-container-id-2 div.sk-serial {display: flex;flex-direction: column;align-items: center;background-color: white;padding-right: 0.2em;padding-left: 0.2em;position: relative;}#sk-container-id-2 div.sk-item {position: relative;z-index: 1;}#sk-container-id-2 div.sk-parallel {display: flex;align-items: stretch;justify-content: center;background-color: white;position: relative;}#sk-container-id-2 div.sk-item::before, #sk-container-id-2 div.sk-parallel-item::before {content: \"\";position: absolute;border-left: 1px solid gray;box-sizing: border-box;top: 0;bottom: 0;left: 50%;z-index: -1;}#sk-container-id-2 div.sk-parallel-item {display: flex;flex-direction: column;z-index: 1;position: relative;background-color: white;}#sk-container-id-2 div.sk-parallel-item:first-child::after {align-self: flex-end;width: 50%;}#sk-container-id-2 div.sk-parallel-item:last-child::after {align-self: flex-start;width: 50%;}#sk-container-id-2 div.sk-parallel-item:only-child::after {width: 0;}#sk-container-id-2 div.sk-dashed-wrapped {border: 1px dashed gray;margin: 0 0.4em 0.5em 0.4em;box-sizing: border-box;padding-bottom: 0.4em;background-color: white;}#sk-container-id-2 div.sk-label label {font-family: monospace;font-weight: bold;display: inline-block;line-height: 1.2em;}#sk-container-id-2 div.sk-label-container {text-align: center;}#sk-container-id-2 div.sk-container {/* jupyter's `normalize.less` sets `[hidden] { display: none; }` but bootstrap.min.css set `[hidden] { display: none !important; }` so we also need the `!important` here to be able to override the default hidden behavior on the sphinx rendered scikit-learn.org. See: https://github.com/scikit-learn/scikit-learn/issues/21755 */display: inline-block !important;position: relative;}#sk-container-id-2 div.sk-text-repr-fallback {display: none;}</style><div id=\"sk-container-id-2\" class=\"sk-top-container\"><div class=\"sk-text-repr-fallback\"><pre>KMeans(n_clusters=128, n_init=5)</pre><b>In a Jupyter environment, please rerun this cell to show the HTML representation or trust the notebook. <br />On GitHub, the HTML representation is unable to render, please try loading this page with nbviewer.org.</b></div><div class=\"sk-container\" hidden><div class=\"sk-item\"><div class=\"sk-estimator sk-toggleable\"><input class=\"sk-toggleable__control sk-hidden--visually\" id=\"sk-estimator-id-2\" type=\"checkbox\" checked><label for=\"sk-estimator-id-2\" class=\"sk-toggleable__label sk-toggleable__label-arrow\">KMeans</label><div class=\"sk-toggleable__content\"><pre>KMeans(n_clusters=128, n_init=5)</pre></div></div></div></div></div>"
      ],
      "text/plain": [
       "KMeans(n_clusters=128, n_init=5)"
      ]
     },
     "execution_count": 48,
     "metadata": {},
     "output_type": "execute_result"
    }
   ],
   "source": [
    "#pipe = Pipeline([('kmeans', KMeans(n_clusters,n_init=1,verbose=True))])\n",
    "pipe = KMeans(n_clusters=n_clusters,n_init=5)\n",
    "pipe.fit(train_tiles_np.reshape(-1,64))"
   ]
  },
  {
   "cell_type": "code",
   "execution_count": 49,
   "metadata": {},
   "outputs": [],
   "source": [
    "from joblib import dump\n",
    "with open(\"models/pipe_kmeans64.sio\",\"+wb\") as f:\n",
    "    obj = sio.dumps(pipe)\n",
    "    f.write(obj)"
   ]
  },
  {
   "cell_type": "code",
   "execution_count": 50,
   "metadata": {},
   "outputs": [],
   "source": [
    "from joblib import load\n",
    "with open(\"models/pipe_kmeans64.sio\",\"br\") as f:\n",
    "    obj = f.read()\n",
    "    unknown_types = sio.get_untrusted_types(data=obj)\n",
    "    pipe = sio.loads(obj,trusted=unknown_types)\n"
   ]
  },
  {
   "attachments": {},
   "cell_type": "markdown",
   "metadata": {},
   "source": [
    "## Conteo"
   ]
  },
  {
   "cell_type": "code",
   "execution_count": 51,
   "metadata": {},
   "outputs": [],
   "source": [
    "y_prime = pipe.predict(np.concatenate([tiles_np,tiles_augmented_np]).reshape(-1,64))\n",
    "y_prime_pos = y_prime.reshape(-1,16)\n",
    "P_q_cara,_ = np.histogram(y_prime,bins=range(0,n_clusters+1))"
   ]
  },
  {
   "cell_type": "code",
   "execution_count": 52,
   "metadata": {},
   "outputs": [],
   "source": [
    "P_pos_q_cara_list = []\n",
    "for i in range(y_prime_pos.shape[1]):\n",
    "    P_pos_q_cara_i, _ = np.histogram(y_prime_pos[:,i],bins=range(0,n_clusters+1)) \n",
    "    P_pos_q_cara_list.append(P_pos_q_cara_i)\n",
    "\n",
    "P_pos_q_cara = np.stack(P_pos_q_cara_list)"
   ]
  },
  {
   "cell_type": "code",
   "execution_count": 53,
   "metadata": {},
   "outputs": [],
   "source": [
    "np.save(\"counts/pipe_kmeans64/P_q_cara.npy\",P_q_cara)\n",
    "np.save(\"counts/pipe_kmeans64/P_pos_q_cara.npy\",P_pos_q_cara)"
   ]
  },
  {
   "cell_type": "code",
   "execution_count": 54,
   "metadata": {},
   "outputs": [],
   "source": [
    "y_naturales_prime = pipe.predict(natural_images.reshape(-1,64))\n",
    "P_q_nocara,_ = np.histogram(y_naturales_prime,bins=range(0,n_clusters+1))\n",
    "np.save(\"counts/pipe_kmeans64/P_q_nocara.npy\",P_q_nocara)"
   ]
  },
  {
   "attachments": {},
   "cell_type": "markdown",
   "metadata": {},
   "source": [
    "## Calcular el resultado"
   ]
  },
  {
   "cell_type": "code",
   "execution_count": 33,
   "metadata": {},
   "outputs": [],
   "source": [
    "P_norm_q_nocara = P_q_nocara / P_q_nocara.sum()"
   ]
  },
  {
   "cell_type": "code",
   "execution_count": 34,
   "metadata": {},
   "outputs": [],
   "source": [
    "P_norm_q_cara = P_q_cara / P_q_cara.sum()"
   ]
  },
  {
   "cell_type": "code",
   "execution_count": 35,
   "metadata": {},
   "outputs": [
    {
     "data": {
      "text/plain": [
       "array([32094, 54222, 25041, 45680, 31461, 32514, 30685, 18467, 19298,\n",
       "       16893, 24972, 37314, 14561, 16127, 13171, 46596, 17023, 15332,\n",
       "       15051, 21556, 13576,  6964, 15547, 35692, 14952, 19123, 54018,\n",
       "       11622, 15052,  7972, 16764, 37307, 34299, 28803, 52571, 12367,\n",
       "       18361, 40813, 24377, 15683, 35383, 14224, 25451, 17477, 33925,\n",
       "       47754, 14303, 14099, 16891, 30699, 10569, 30346, 18090, 48605,\n",
       "       25200, 12136, 11798, 13123, 40996, 49845, 27492, 29572, 14042,\n",
       "       14059])"
      ]
     },
     "execution_count": 35,
     "metadata": {},
     "output_type": "execute_result"
    }
   ],
   "source": [
    "P_pos_q_cara.sum(axis=0)"
   ]
  },
  {
   "cell_type": "code",
   "execution_count": 36,
   "metadata": {},
   "outputs": [],
   "source": [
    "P_norm_pos_q_cara = P_pos_q_cara / P_pos_q_cara.sum(axis=0)"
   ]
  },
  {
   "cell_type": "code",
   "execution_count": 37,
   "metadata": {},
   "outputs": [
    {
     "data": {
      "text/plain": [
       "(16, 64)"
      ]
     },
     "execution_count": 37,
     "metadata": {},
     "output_type": "execute_result"
    }
   ],
   "source": [
    "P_norm_pos_q_cara.shape"
   ]
  },
  {
   "cell_type": "code",
   "execution_count": 38,
   "metadata": {},
   "outputs": [],
   "source": [
    "test = np.asarray([10,20,30,40,50,60])"
   ]
  },
  {
   "cell_type": "code",
   "execution_count": 39,
   "metadata": {},
   "outputs": [
    {
     "data": {
      "text/plain": [
       "array([10, 20, 30, 40, 50, 60])"
      ]
     },
     "execution_count": 39,
     "metadata": {},
     "output_type": "execute_result"
    }
   ],
   "source": [
    "test"
   ]
  },
  {
   "cell_type": "code",
   "execution_count": 41,
   "metadata": {},
   "outputs": [
    {
     "data": {
      "text/plain": [
       "(0.008417508417508417, 0.0016835016835016834, 0.005050505050505051)"
      ]
     },
     "execution_count": 41,
     "metadata": {},
     "output_type": "execute_result"
    }
   ],
   "source": [
    "P_norm_q_nocara[20],P_norm_q_nocara[30],P_norm_q_nocara[40]"
   ]
  },
  {
   "cell_type": "code",
   "execution_count": 42,
   "metadata": {},
   "outputs": [],
   "source": [
    "den = np.prod(P_norm_q_nocara[test]/ (16*64)) "
   ]
  },
  {
   "cell_type": "code",
   "execution_count": 43,
   "metadata": {},
   "outputs": [
    {
     "ename": "IndexError",
     "evalue": "shape mismatch: indexing arrays could not be broadcast together with shapes (64,) (6,) ",
     "output_type": "error",
     "traceback": [
      "\u001b[0;31m---------------------------------------------------------------------------\u001b[0m",
      "\u001b[0;31mIndexError\u001b[0m                                Traceback (most recent call last)",
      "Cell \u001b[0;32mIn[43], line 1\u001b[0m\n\u001b[0;32m----> 1\u001b[0m np\u001b[39m.\u001b[39mprod(P_norm_pos_q_cara[np\u001b[39m.\u001b[39;49marange(\u001b[39m0\u001b[39;49m,\u001b[39m64\u001b[39;49m,\u001b[39m1\u001b[39;49m,dtype\u001b[39m=\u001b[39;49m\u001b[39mint\u001b[39;49m),test])\n",
      "\u001b[0;31mIndexError\u001b[0m: shape mismatch: indexing arrays could not be broadcast together with shapes (64,) (6,) "
     ]
    }
   ],
   "source": [
    "np.prod(P_norm_pos_q_cara[np.arange(0,64,1,dtype=int),test])"
   ]
  },
  {
   "cell_type": "code",
   "execution_count": 44,
   "metadata": {},
   "outputs": [],
   "source": [
    "num = np.prod(P_norm_pos_q_cara[np.arange(0,6,1,dtype=int),test]) * np.prod(P_norm_q_cara[test])"
   ]
  }
 ],
 "metadata": {
  "kernelspec": {
   "display_name": "venv",
   "language": "python",
   "name": "python3"
  },
  "language_info": {
   "codemirror_mode": {
    "name": "ipython",
    "version": 3
   },
   "file_extension": ".py",
   "mimetype": "text/x-python",
   "name": "python",
   "nbconvert_exporter": "python",
   "pygments_lexer": "ipython3",
   "version": "3.10.6"
  },
  "orig_nbformat": 4
 },
 "nbformat": 4,
 "nbformat_minor": 2
}
