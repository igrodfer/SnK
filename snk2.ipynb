{
 "cells": [
  {
   "cell_type": "code",
   "execution_count": 1,
   "metadata": {},
   "outputs": [],
   "source": [
    "from sklearn.cluster import KMeans\n",
    "from sklearn.decomposition import PCA\n",
    "from sklearn.pipeline import Pipeline\n",
    "from face_segmenter import segment_image\n",
    "import numpy as np\n",
    "import cv2\n",
    "from joblib import load"
   ]
  },
  {
   "cell_type": "code",
   "execution_count": 2,
   "metadata": {},
   "outputs": [],
   "source": [
    "def rgb2gray(rgb):\n",
    "    return np.dot(rgb[...,:3], [0.2989, 0.5870, 0.1140]).astype('uint8')"
   ]
  },
  {
   "cell_type": "code",
   "execution_count": 3,
   "metadata": {},
   "outputs": [],
   "source": [
    "pipe = Pipeline([('pca', PCA(0.99)), ('kmeans', KMeans(64))])"
   ]
  },
  {
   "cell_type": "code",
   "execution_count": 4,
   "metadata": {},
   "outputs": [],
   "source": [
    "img = cv2.imread(\"images/dataset-cover.png\")"
   ]
  },
  {
   "cell_type": "code",
   "execution_count": 5,
   "metadata": {},
   "outputs": [],
   "source": [
    "img = rgb2gray(np.array(img,dtype='uint8'))"
   ]
  },
  {
   "cell_type": "code",
   "execution_count": 6,
   "metadata": {},
   "outputs": [
    {
     "data": {
      "text/plain": [
       "(379, 1800)"
      ]
     },
     "execution_count": 6,
     "metadata": {},
     "output_type": "execute_result"
    }
   ],
   "source": [
    "img.shape"
   ]
  },
  {
   "cell_type": "code",
   "execution_count": 7,
   "metadata": {},
   "outputs": [],
   "source": [
    "clf = load('pipe_pca099_kmeans64.joblib')"
   ]
  },
  {
   "cell_type": "code",
   "execution_count": 8,
   "metadata": {},
   "outputs": [],
   "source": [
    "def next_pyramid_step(img,scale = 0.9):\n",
    "    return cv2.resize(img,None,fy=scale,fx=scale)"
   ]
  },
  {
   "cell_type": "code",
   "execution_count": 9,
   "metadata": {},
   "outputs": [],
   "source": [
    "img_pyramid = [img]\n",
    "for i in range(10):\n",
    "    img = next_pyramid_step(img,0.9)\n",
    "    img_pyramid.append(img)"
   ]
  },
  {
   "cell_type": "code",
   "execution_count": 10,
   "metadata": {},
   "outputs": [],
   "source": [
    "P_pos_q_cara = np.load(\"P_pos_q_cara.npy\")\n",
    "P_q_nocara = np.load(\"P_q_nocara.npy\")\n",
    "P_q_cara = np.load(\"P_q_cara.npy\")\n",
    "\n",
    "P_norm_pos_q_cara = P_pos_q_cara / P_pos_q_cara.sum(axis=0)\n",
    "P_norm_q_cara = P_q_cara / P_q_cara.sum()\n",
    "P_norm_q_nocara = P_q_nocara / P_q_nocara.sum()"
   ]
  },
  {
   "cell_type": "code",
   "execution_count": 19,
   "metadata": {},
   "outputs": [],
   "source": [
    "def is_cara_region(region:np.ndarray)-> bool:\n",
    "    region = region.flatten()\n",
    "    den = np.prod(P_norm_q_nocara[region]/ (16*64)) \n",
    "    num = np.prod(P_norm_pos_q_cara[np.arange(0,16,1,dtype=int),region]) * np.prod(P_norm_q_cara[region])\n",
    "\n",
    "    res = num / den\n",
    "    _lambda = 0.0001\n",
    "    \n",
    "    return res > _lambda"
   ]
  },
  {
   "cell_type": "code",
   "execution_count": 13,
   "metadata": {},
   "outputs": [],
   "source": [
    "def find_caras_in_region(classes_matrix:np.ndarray,square_side = 4)-> list[tuple[int]]:\n",
    "    \"\"\" \n",
    "    Encuentra las regiones que son caras y devuelve una \n",
    "    lista de los que encuentra, señalando la esquina superior izquierda\n",
    "    \"\"\"\n",
    "    height,width = classes_matrix.shape\n",
    "    height -= square_side\n",
    "    width -= square_side\n",
    "    caras = []\n",
    "    for i,j in np.ndindex((height + 1,width +1)):\n",
    "        if is_cara_region(classes_matrix[i:i+square_side,j:j+square_side]):\n",
    "            caras.append((i,j))\n",
    "    return caras"
   ]
  },
  {
   "cell_type": "code",
   "execution_count": 15,
   "metadata": {},
   "outputs": [],
   "source": [
    "def get_real_square(caras:list[tuple[int]],scale_factor:int,padding:tuple[int,int]):\n",
    "    res = []\n",
    "    h,w = padding\n",
    "    for i,j in caras:\n",
    "        top = scale_factor * (h + 4 * i)\n",
    "        left = scale_factor * (w + 4 * j)\n",
    "        right = scale_factor * (w * 4 * (j + 4))\n",
    "        bottom = scale_factor * (h * 4 * (i + 4))\n",
    "\n",
    "        res.append({\"top\":top,\n",
    "                    \"left\":left,\n",
    "                    \"right\":right,\n",
    "                    \"bottom\":bottom})\n",
    "    return res"
   ]
  },
  {
   "cell_type": "code",
   "execution_count": 20,
   "metadata": {},
   "outputs": [
    {
     "name": "stderr",
     "output_type": "stream",
     "text": [
      "/tmp/ipykernel_10198/3178668715.py:6: RuntimeWarning: divide by zero encountered in scalar divide\n",
      "  res = num / den\n",
      "/tmp/ipykernel_10198/3178668715.py:6: RuntimeWarning: divide by zero encountered in scalar divide\n",
      "  res = num / den\n",
      "/tmp/ipykernel_10198/3178668715.py:6: RuntimeWarning: divide by zero encountered in scalar divide\n",
      "  res = num / den\n",
      "/tmp/ipykernel_10198/3178668715.py:6: RuntimeWarning: divide by zero encountered in scalar divide\n",
      "  res = num / den\n",
      "/tmp/ipykernel_10198/3178668715.py:6: RuntimeWarning: divide by zero encountered in scalar divide\n",
      "  res = num / den\n",
      "/tmp/ipykernel_10198/3178668715.py:6: RuntimeWarning: divide by zero encountered in scalar divide\n",
      "  res = num / den\n",
      "/tmp/ipykernel_10198/3178668715.py:6: RuntimeWarning: divide by zero encountered in scalar divide\n",
      "  res = num / den\n",
      "/tmp/ipykernel_10198/3178668715.py:6: RuntimeWarning: divide by zero encountered in scalar divide\n",
      "  res = num / den\n",
      "/tmp/ipykernel_10198/3178668715.py:6: RuntimeWarning: divide by zero encountered in scalar divide\n",
      "  res = num / den\n",
      "/tmp/ipykernel_10198/3178668715.py:6: RuntimeWarning: divide by zero encountered in scalar divide\n",
      "  res = num / den\n",
      "/tmp/ipykernel_10198/3178668715.py:6: RuntimeWarning: divide by zero encountered in scalar divide\n",
      "  res = num / den\n",
      "/tmp/ipykernel_10198/3178668715.py:6: RuntimeWarning: divide by zero encountered in scalar divide\n",
      "  res = num / den\n",
      "/tmp/ipykernel_10198/3178668715.py:6: RuntimeWarning: divide by zero encountered in scalar divide\n",
      "  res = num / den\n",
      "/tmp/ipykernel_10198/3178668715.py:6: RuntimeWarning: divide by zero encountered in scalar divide\n",
      "  res = num / den\n",
      "/tmp/ipykernel_10198/3178668715.py:6: RuntimeWarning: divide by zero encountered in scalar divide\n",
      "  res = num / den\n",
      "/tmp/ipykernel_10198/3178668715.py:6: RuntimeWarning: divide by zero encountered in scalar divide\n",
      "  res = num / den\n"
     ]
    }
   ],
   "source": [
    "stride = 2\n",
    "squares = []\n",
    "for h in range(4):\n",
    "    for w in range(4):\n",
    "        mini_patches,shape = segment_image(img,8,margin_top=h*stride,margin_left=w*stride)\n",
    "        mini_patches = mini_patches.reshape(-1,8*8)\n",
    "        y_pred = clf.predict(mini_patches)\n",
    "        y_pred = y_pred.reshape(shape[0]//8,shape[1]//8)\n",
    "        # Recuperar las reguiones con caras y guardar la lista de cuadrados\n",
    "        caras = find_caras_in_region(y_pred)\n",
    "        squares += get_real_square(caras,scale_factor=1,padding=(h,w))\n"
   ]
  },
  {
   "cell_type": "code",
   "execution_count": 22,
   "metadata": {},
   "outputs": [
    {
     "data": {
      "text/plain": [
       "15249"
      ]
     },
     "execution_count": 22,
     "metadata": {},
     "output_type": "execute_result"
    }
   ],
   "source": [
    "len(squares)"
   ]
  },
  {
   "cell_type": "code",
   "execution_count": 13,
   "metadata": {},
   "outputs": [],
   "source": [
    "img_tile = np.lib.stride_tricks.as_strided(img,shape=(img.shape[0]- 32,img.shape[1]-32,32,32),strides=img.strides + img.strides, writeable=False).reshape(-1,32,32)"
   ]
  }
 ],
 "metadata": {
  "kernelspec": {
   "display_name": "Python 3",
   "language": "python",
   "name": "python3"
  },
  "language_info": {
   "codemirror_mode": {
    "name": "ipython",
    "version": 3
   },
   "file_extension": ".py",
   "mimetype": "text/x-python",
   "name": "python",
   "nbconvert_exporter": "python",
   "pygments_lexer": "ipython3",
   "version": "3.10.6"
  },
  "orig_nbformat": 4,
  "vscode": {
   "interpreter": {
    "hash": "a5b328e89baaa4db9c21183a573e2adc39fba12f4d4e82bb23a6b255fd2a24cf"
   }
  }
 },
 "nbformat": 4,
 "nbformat_minor": 2
}
